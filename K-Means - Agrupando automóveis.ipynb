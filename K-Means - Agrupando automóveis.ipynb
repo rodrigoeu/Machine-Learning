{
 "cells": [
  {
   "cell_type": "markdown",
   "id": "891d3eee",
   "metadata": {
    "collapsed": true
   },
   "source": [
    "## Agrupando automóveis"
   ]
  },
  {
   "cell_type": "code",
   "execution_count": 1,
   "id": "b083bbc2",
   "metadata": {
    "ExecuteTime": {
     "end_time": "2022-06-01T20:19:07.947938Z",
     "start_time": "2022-06-01T20:19:00.832830Z"
    }
   },
   "outputs": [],
   "source": [
    "# Imports\n",
    "import math\n",
    "import pandas as pd\n",
    "from pyspark.sql import Row\n",
    "from pyspark.ml.linalg import Vectors\n",
    "from pyspark.ml.clustering import KMeans\n",
    "import matplotlib.pylab as plt\n",
    "%matplotlib inline"
   ]
  },
  {
   "cell_type": "code",
   "execution_count": 2,
   "id": "aa1231d4",
   "metadata": {
    "ExecuteTime": {
     "end_time": "2022-06-01T20:19:07.962926Z",
     "start_time": "2022-06-01T20:19:07.951921Z"
    }
   },
   "outputs": [],
   "source": [
    "# Spark Session - usada quando se trabalha com Dataframes no Spark\n",
    "spSession = SparkSession.builder.master(\"local\").appName(\"DSA-SparkMLLib\").getOrCreate()"
   ]
  },
  {
   "cell_type": "code",
   "execution_count": 3,
   "id": "674ade38",
   "metadata": {
    "ExecuteTime": {
     "end_time": "2022-06-01T20:19:09.777977Z",
     "start_time": "2022-06-01T20:19:07.967883Z"
    }
   },
   "outputs": [
    {
     "data": {
      "text/plain": [
       "data/carros2.csv MapPartitionsRDD[1] at textFile at <unknown>:0"
      ]
     },
     "execution_count": 3,
     "metadata": {},
     "output_type": "execute_result"
    }
   ],
   "source": [
    "# Carregando os dados e gerando um RDD\n",
    "carrosRDD = sc.textFile(\"data/carros2.csv\")\n",
    "carrosRDD.cache()"
   ]
  },
  {
   "cell_type": "code",
   "execution_count": 4,
   "id": "52287c80",
   "metadata": {
    "ExecuteTime": {
     "end_time": "2022-06-01T20:19:19.084056Z",
     "start_time": "2022-06-01T20:19:09.784960Z"
    }
   },
   "outputs": [
    {
     "data": {
      "text/plain": [
       "197"
      ]
     },
     "execution_count": 4,
     "metadata": {},
     "output_type": "execute_result"
    }
   ],
   "source": [
    "# Removendo a primeira linha do arquivo (cabeçalho)\n",
    "primeiraLinha = carrosRDD.first()\n",
    "carrosRDD2 = carrosRDD.filter(lambda x: x != primeiraLinha)\n",
    "carrosRDD2.count()"
   ]
  },
  {
   "cell_type": "code",
   "execution_count": 5,
   "id": "a2674f8d",
   "metadata": {
    "ExecuteTime": {
     "end_time": "2022-06-01T20:19:21.074520Z",
     "start_time": "2022-06-01T20:19:19.087049Z"
    }
   },
   "outputs": [
    {
     "data": {
      "text/plain": [
       "['subaru,gas,std,two,hatchback,fwd,four,69,4900,31,36,5118',\n",
       " 'chevrolet,gas,std,two,hatchback,fwd,three,48,5100,47,53,5151',\n",
       " 'mazda,gas,std,two,hatchback,fwd,four,68,5000,30,31,5195',\n",
       " 'toyota,gas,std,two,hatchback,fwd,four,62,4800,35,39,5348',\n",
       " 'mitsubishi,gas,std,two,hatchback,fwd,four,68,5500,37,41,5389']"
      ]
     },
     "execution_count": 5,
     "metadata": {},
     "output_type": "execute_result"
    }
   ],
   "source": [
    "carrosRDD2.take(5)"
   ]
  },
  {
   "cell_type": "code",
   "execution_count": 6,
   "id": "78b602c1",
   "metadata": {
    "ExecuteTime": {
     "end_time": "2022-06-01T20:19:21.090479Z",
     "start_time": "2022-06-01T20:19:21.079503Z"
    }
   },
   "outputs": [],
   "source": [
    "# Convertendo e limpando os dados\n",
    "def transformToNumeric( inputStr) :\n",
    "    attList = inputStr.split(\",\")\n",
    "\n",
    "    doors = 1.0 if attList[3] == \"two\" else 2.0\n",
    "    body = 1.0 if attList[4] == \"sedan\" else 2.0 \n",
    "       \n",
    "    linhas = Row(DOORS = doors, BODY = float(body), HP = float(attList[7]), RPM = float(attList[8]),\n",
    "                 MPG = float(attList[9]))\n",
    "    return linhas"
   ]
  },
  {
   "cell_type": "code",
   "execution_count": 7,
   "id": "cc27d2d6",
   "metadata": {
    "ExecuteTime": {
     "end_time": "2022-06-01T20:19:24.317532Z",
     "start_time": "2022-06-01T20:19:21.096457Z"
    },
    "scrolled": false
   },
   "outputs": [
    {
     "data": {
      "text/plain": [
       "[Row(DOORS=1.0, BODY=2.0, HP=69.0, RPM=4900.0, MPG=31.0),\n",
       " Row(DOORS=1.0, BODY=2.0, HP=48.0, RPM=5100.0, MPG=47.0),\n",
       " Row(DOORS=1.0, BODY=2.0, HP=68.0, RPM=5000.0, MPG=30.0),\n",
       " Row(DOORS=1.0, BODY=2.0, HP=62.0, RPM=4800.0, MPG=35.0),\n",
       " Row(DOORS=1.0, BODY=2.0, HP=68.0, RPM=5500.0, MPG=37.0)]"
      ]
     },
     "execution_count": 7,
     "metadata": {},
     "output_type": "execute_result"
    }
   ],
   "source": [
    "# Aplicando a função\n",
    "carrosRDD3 = carrosRDD2.map(transformToNumeric)\n",
    "carrosRDD3.persist()\n",
    "carrosRDD3.take(5)"
   ]
  },
  {
   "cell_type": "code",
   "execution_count": 8,
   "id": "729b2055",
   "metadata": {
    "ExecuteTime": {
     "end_time": "2022-06-01T20:19:36.047580Z",
     "start_time": "2022-06-01T20:19:24.321534Z"
    }
   },
   "outputs": [
    {
     "name": "stdout",
     "output_type": "stream",
     "text": [
      "+-----+----+----+------+----+\n",
      "|DOORS|BODY|  HP|   RPM| MPG|\n",
      "+-----+----+----+------+----+\n",
      "|  1.0| 2.0|69.0|4900.0|31.0|\n",
      "|  1.0| 2.0|48.0|5100.0|47.0|\n",
      "|  1.0| 2.0|68.0|5000.0|30.0|\n",
      "|  1.0| 2.0|62.0|4800.0|35.0|\n",
      "|  1.0| 2.0|68.0|5500.0|37.0|\n",
      "|  1.0| 2.0|60.0|5500.0|38.0|\n",
      "|  1.0| 1.0|69.0|5200.0|31.0|\n",
      "|  1.0| 2.0|68.0|5500.0|37.0|\n",
      "|  1.0| 2.0|68.0|5500.0|37.0|\n",
      "|  1.0| 2.0|68.0|5000.0|31.0|\n",
      "|  1.0| 2.0|68.0|5500.0|31.0|\n",
      "|  2.0| 2.0|68.0|5500.0|31.0|\n",
      "|  2.0| 2.0|68.0|5500.0|31.0|\n",
      "|  1.0| 2.0|70.0|5400.0|38.0|\n",
      "|  1.0| 2.0|62.0|4800.0|31.0|\n",
      "|  1.0| 2.0|68.0|5500.0|31.0|\n",
      "|  1.0| 2.0|58.0|4800.0|49.0|\n",
      "|  2.0| 2.0|62.0|4800.0|31.0|\n",
      "|  1.0| 2.0|76.0|6000.0|30.0|\n",
      "|  2.0| 1.0|70.0|5400.0|38.0|\n",
      "+-----+----+----+------+----+\n",
      "only showing top 20 rows\n",
      "\n"
     ]
    }
   ],
   "source": [
    "# Criando um Dataframe\n",
    "carrosDF = spSession.createDataFrame(carrosRDD3)\n",
    "carrosDF.show()"
   ]
  },
  {
   "cell_type": "code",
   "execution_count": 9,
   "id": "60f94e9c",
   "metadata": {
    "ExecuteTime": {
     "end_time": "2022-06-01T20:19:44.448827Z",
     "start_time": "2022-06-01T20:19:36.054559Z"
    }
   },
   "outputs": [],
   "source": [
    "# Sumarizando os dados e extraindo a média e o desvio padrão\n",
    "estats = carrosDF.describe().toPandas()\n",
    "medias = estats.iloc[1,1:5].values.tolist()\n",
    "desvios = estats.iloc[2,1:5].values.tolist()"
   ]
  },
  {
   "cell_type": "code",
   "execution_count": 10,
   "id": "6c1fa54f",
   "metadata": {
    "ExecuteTime": {
     "end_time": "2022-06-01T20:19:44.526620Z",
     "start_time": "2022-06-01T20:19:44.454818Z"
    }
   },
   "outputs": [],
   "source": [
    "# Colocando a média e o desvio padrão e variáves do tipo Broadcast\n",
    "bc_media = sc.broadcast(medias)\n",
    "bc_desvio = sc.broadcast(desvios)"
   ]
  },
  {
   "cell_type": "code",
   "execution_count": 11,
   "id": "bd1ebb1d",
   "metadata": {
    "ExecuteTime": {
     "end_time": "2022-06-01T20:19:44.556538Z",
     "start_time": "2022-06-01T20:19:44.532604Z"
    }
   },
   "outputs": [],
   "source": [
    "# Função para centralizar e aplicar escala aos dados. Cada valor será subtraído da média então dividido pelo desvio padrão\n",
    "def centerAndScale(inRow) :\n",
    "    global bc_media\n",
    "    global bc_desvio\n",
    "    \n",
    "    meanArray = bc_media.value\n",
    "    stdArray = bc_desvio.value\n",
    "\n",
    "    retArray = []\n",
    "    \n",
    "    for i in range(len(meanArray)):\n",
    "        retArray.append( (float(inRow[i]) - float(meanArray[i])) / float(stdArray[i]) )\n",
    "    return Vectors.dense(retArray)"
   ]
  },
  {
   "cell_type": "code",
   "execution_count": 12,
   "id": "dca10518",
   "metadata": {
    "ExecuteTime": {
     "end_time": "2022-06-01T20:19:52.330979Z",
     "start_time": "2022-06-01T20:19:44.559530Z"
    }
   },
   "outputs": [
    {
     "data": {
      "text/plain": [
       "[DenseVector([-1.145, 0.9337, -0.9194, -0.4532]),\n",
       " DenseVector([-1.145, 0.9337, -1.4773, -0.0375]),\n",
       " DenseVector([-1.145, 0.9337, -0.9459, -0.2453]),\n",
       " DenseVector([-1.145, 0.9337, -1.1053, -0.6611]),\n",
       " DenseVector([-1.145, 0.9337, -0.9459, 0.7941]),\n",
       " DenseVector([-1.145, 0.9337, -1.1585, 0.7941]),\n",
       " DenseVector([-1.145, -1.0656, -0.9194, 0.1704]),\n",
       " DenseVector([-1.145, 0.9337, -0.9459, 0.7941]),\n",
       " DenseVector([-1.145, 0.9337, -0.9459, 0.7941]),\n",
       " DenseVector([-1.145, 0.9337, -0.9459, -0.2453]),\n",
       " DenseVector([-1.145, 0.9337, -0.9459, 0.7941]),\n",
       " DenseVector([0.869, 0.9337, -0.9459, 0.7941]),\n",
       " DenseVector([0.869, 0.9337, -0.9459, 0.7941]),\n",
       " DenseVector([-1.145, 0.9337, -0.8928, 0.5862]),\n",
       " DenseVector([-1.145, 0.9337, -1.1053, -0.6611]),\n",
       " DenseVector([-1.145, 0.9337, -0.9459, 0.7941]),\n",
       " DenseVector([-1.145, 0.9337, -1.2116, -0.6611]),\n",
       " DenseVector([0.869, 0.9337, -1.1053, -0.6611]),\n",
       " DenseVector([-1.145, 0.9337, -0.7334, 1.8335]),\n",
       " DenseVector([0.869, -1.0656, -0.8928, 0.5862]),\n",
       " DenseVector([-1.145, -1.0656, -0.9194, 0.1704]),\n",
       " DenseVector([-1.145, 0.9337, -0.9459, 0.7941]),\n",
       " DenseVector([0.869, -1.0656, -0.9459, 0.7941]),\n",
       " DenseVector([0.869, -1.0656, -0.9459, 0.7941]),\n",
       " DenseVector([0.869, -1.0656, -0.9459, -0.2453]),\n",
       " DenseVector([0.869, -1.0656, -0.6802, -0.6611]),\n",
       " DenseVector([-1.145, 0.9337, -0.9459, -0.2453]),\n",
       " DenseVector([0.869, -1.0656, -0.9194, 0.1704]),\n",
       " DenseVector([-1.145, 0.9337, -0.7334, 1.8335]),\n",
       " DenseVector([0.869, 0.9337, -1.1053, -0.6611]),\n",
       " DenseVector([0.869, -1.0656, -0.8928, -0.6611]),\n",
       " DenseVector([0.869, -1.0656, -0.4146, -0.2453]),\n",
       " DenseVector([-1.145, 0.9337, -0.8131, -1.4927]),\n",
       " DenseVector([-1.145, -1.0656, -1.2913, -0.6611]),\n",
       " DenseVector([0.869, -1.0656, -0.574, -0.6611]),\n",
       " DenseVector([-1.145, 0.9337, -0.7334, 1.8335]),\n",
       " DenseVector([0.869, 0.9337, -0.8928, -0.6611]),\n",
       " DenseVector([0.869, -1.0656, -0.7334, 1.8335]),\n",
       " DenseVector([0.869, 0.9337, -0.7334, 1.8335]),\n",
       " DenseVector([-1.145, -1.0656, -0.9194, 0.1704]),\n",
       " DenseVector([0.869, 0.9337, -0.9194, 0.1704]),\n",
       " DenseVector([0.869, -1.0656, -0.9459, -0.2453]),\n",
       " DenseVector([0.869, 0.9337, -0.574, -0.6611]),\n",
       " DenseVector([0.869, -1.0656, -0.9194, 0.1704]),\n",
       " DenseVector([-1.145, 0.9337, -0.8131, -1.4927]),\n",
       " DenseVector([0.869, -1.0656, -0.9459, 0.7941]),\n",
       " DenseVector([0.869, -1.0656, -0.9459, 0.7941]),\n",
       " DenseVector([-1.145, 0.9337, -0.0426, 0.7941]),\n",
       " DenseVector([0.869, -1.0656, -0.8928, -0.6611]),\n",
       " DenseVector([0.869, -1.0656, -0.574, -1.4927]),\n",
       " DenseVector([-1.145, -1.0656, -1.371, -0.6611]),\n",
       " DenseVector([0.869, 0.9337, -1.2647, -1.2848]),\n",
       " DenseVector([-1.145, 0.9337, -0.9194, 0.1704]),\n",
       " DenseVector([-1.145, 0.9337, -0.4677, 1.4177]),\n",
       " DenseVector([0.869, 0.9337, -1.1053, -0.6611]),\n",
       " DenseVector([0.869, -1.0656, -1.2647, -1.2848]),\n",
       " DenseVector([-1.145, 0.9337, -0.0426, 0.7941]),\n",
       " DenseVector([-1.145, 0.9337, -0.0426, 0.7941]),\n",
       " DenseVector([-1.145, -1.0656, -0.4943, 0.2744]),\n",
       " DenseVector([0.869, -1.0656, -1.371, -0.6611]),\n",
       " DenseVector([0.869, 0.9337, -0.9194, 0.1704]),\n",
       " DenseVector([0.869, 0.9337, -0.574, -0.6611]),\n",
       " DenseVector([-1.145, -1.0656, -0.8928, -0.6611]),\n",
       " DenseVector([0.869, -1.0656, -0.4146, -0.2453]),\n",
       " DenseVector([0.869, -1.0656, -0.4943, 0.2744]),\n",
       " DenseVector([-1.145, 0.9337, -0.8928, -0.6611]),\n",
       " DenseVector([-1.145, 0.9337, -0.9194, 0.1704]),\n",
       " DenseVector([0.869, 0.9337, -0.8928, -0.6611]),\n",
       " DenseVector([-1.145, 0.9337, 0.3293, -0.6611]),\n",
       " DenseVector([0.869, -1.0656, -0.5208, -0.6611]),\n",
       " DenseVector([0.869, -1.0656, -0.4943, 0.2744]),\n",
       " DenseVector([-1.145, 0.9337, -0.4146, -0.2453]),\n",
       " DenseVector([0.869, 0.9337, -1.1053, -0.6611]),\n",
       " DenseVector([0.869, -1.0656, -0.4677, 1.4177]),\n",
       " DenseVector([-1.145, 0.9337, -0.5208, -0.6611]),\n",
       " DenseVector([0.869, 0.9337, -0.4146, -0.2453]),\n",
       " DenseVector([0.869, 0.9337, -0.4146, -0.2453]),\n",
       " DenseVector([0.869, -1.0656, -0.3083, -1.9084]),\n",
       " DenseVector([0.869, 0.9337, -0.1755, 0.1704]),\n",
       " DenseVector([-1.145, 0.9337, -0.4677, 1.4177]),\n",
       " DenseVector([0.869, -1.0656, -0.574, -0.6611]),\n",
       " DenseVector([0.869, -1.0656, -0.8928, -0.6611]),\n",
       " DenseVector([0.869, -1.0656, 0.3293, 0.7941]),\n",
       " DenseVector([0.869, -1.0656, 0.3293, 0.7941]),\n",
       " DenseVector([-1.145, -1.0656, 0.2231, 3.0808]),\n",
       " DenseVector([0.869, -1.0656, -0.9459, -1.2848]),\n",
       " DenseVector([-1.145, 0.9337, 0.2231, 3.0808]),\n",
       " DenseVector([0.869, -1.0656, -0.1755, 0.1704]),\n",
       " DenseVector([-1.145, 0.9337, 0.3293, -0.6611]),\n",
       " DenseVector([-1.145, 0.9337, 0.3293, 0.7941]),\n",
       " DenseVector([0.869, -1.0656, -0.2552, 0.1704]),\n",
       " DenseVector([-1.145, 0.9337, -0.3614, 0.7941]),\n",
       " DenseVector([0.869, 0.9337, -0.3083, -1.9084]),\n",
       " DenseVector([-1.145, 0.9337, 0.3293, -0.6611]),\n",
       " DenseVector([0.869, -1.0656, -0.0958, 0.7941]),\n",
       " DenseVector([0.869, 0.9337, -0.2552, 0.1704]),\n",
       " DenseVector([0.869, -1.0656, -0.5208, -0.6611]),\n",
       " DenseVector([0.869, -1.0656, -0.4677, 1.4177]),\n",
       " DenseVector([-1.145, -1.0656, -0.0958, 0.7941]),\n",
       " DenseVector([-1.145, 0.9337, -0.5208, -0.6611]),\n",
       " DenseVector([0.869, -1.0656, -0.8131, -1.2848]),\n",
       " DenseVector([0.869, -1.0656, -0.3083, -1.9084]),\n",
       " DenseVector([-1.145, 0.9337, -0.0692, 1.8335]),\n",
       " DenseVector([-1.145, 0.9337, -0.3614, -0.2453]),\n",
       " DenseVector([-1.145, 0.9337, 0.3293, -0.6611]),\n",
       " DenseVector([0.869, 0.9337, -0.5208, -0.6611]),\n",
       " DenseVector([0.869, 0.9337, -0.3083, -1.9084]),\n",
       " DenseVector([0.869, -1.0656, 0.1965, -0.6611]),\n",
       " DenseVector([-1.145, 0.9337, 0.3293, -0.6611]),\n",
       " DenseVector([-1.145, 0.9337, -0.3614, 0.7941]),\n",
       " DenseVector([0.869, 0.9337, 0.1965, -0.6611]),\n",
       " DenseVector([-1.145, 0.9337, -0.0692, 1.8335]),\n",
       " DenseVector([-1.145, 0.9337, 0.1699, 0.2744]),\n",
       " DenseVector([0.869, -1.0656, -0.1755, -0.2453]),\n",
       " DenseVector([0.869, -1.0656, 0.1699, 0.2744]),\n",
       " DenseVector([0.869, 0.9337, -0.4146, 0.7941]),\n",
       " DenseVector([0.869, 0.9337, -0.1755, -0.2453]),\n",
       " DenseVector([-1.145, 0.9337, 1.0998, -0.2453]),\n",
       " DenseVector([-1.145, 0.9337, 1.0998, -0.2453]),\n",
       " DenseVector([0.869, -1.0656, 0.2762, 0.5862]),\n",
       " DenseVector([0.869, -1.0656, -0.0692, 1.4177]),\n",
       " DenseVector([-1.145, 0.9337, 1.0998, -0.2453]),\n",
       " DenseVector([0.869, -1.0656, -0.2286, -2.0124]),\n",
       " DenseVector([0.869, -1.0656, 0.1699, 0.7941]),\n",
       " DenseVector([0.869, 0.9337, 0.2762, 0.5862]),\n",
       " DenseVector([-1.145, 0.9337, 0.1965, -0.2453]),\n",
       " DenseVector([0.869, -1.0656, 1.2858, 0.1704]),\n",
       " DenseVector([0.869, -1.0656, 1.2858, 0.1704]),\n",
       " DenseVector([-1.145, 0.9337, -0.0692, 1.8335]),\n",
       " DenseVector([0.869, -1.0656, -0.9459, -1.2848]),\n",
       " DenseVector([0.869, 0.9337, -0.2286, -2.0124]),\n",
       " DenseVector([0.869, -1.0656, -0.0426, 0.7941]),\n",
       " DenseVector([0.869, 0.9337, 1.2858, 0.1704]),\n",
       " DenseVector([-1.145, 0.9337, 1.0998, -0.2453]),\n",
       " DenseVector([-1.145, 0.9337, 1.0998, -0.2453]),\n",
       " DenseVector([-1.145, 0.9337, 0.1699, 0.2744]),\n",
       " DenseVector([-1.145, -1.0656, 0.1699, 0.7941]),\n",
       " DenseVector([0.869, -1.0656, 0.1699, 0.2744]),\n",
       " DenseVector([0.869, -1.0656, -0.2286, -0.2453]),\n",
       " DenseVector([-1.145, 0.9337, 0.8341, 1.8335]),\n",
       " DenseVector([0.869, -1.0656, 1.3921, 0.1704]),\n",
       " DenseVector([0.869, 0.9337, 1.3921, 0.1704]),\n",
       " DenseVector([0.869, -1.0656, 0.2762, 0.5862]),\n",
       " DenseVector([-1.145, 0.9337, 1.5249, 0.1704]),\n",
       " DenseVector([-1.145, -1.0656, -0.0692, 1.4177]),\n",
       " DenseVector([-1.145, 0.9337, 0.1965, -0.2453]),\n",
       " DenseVector([-1.145, 0.9337, 1.3389, -0.2453]),\n",
       " DenseVector([-1.145, 0.9337, 1.8969, -0.2453]),\n",
       " DenseVector([0.869, 0.9337, 0.2762, 0.5862]),\n",
       " DenseVector([-1.145, 0.9337, 1.5249, 0.1704]),\n",
       " DenseVector([0.869, -1.0656, -0.1755, -0.2453]),\n",
       " DenseVector([0.869, 0.9337, -0.2286, -0.2453]),\n",
       " DenseVector([0.869, -1.0656, 0.2762, 0.5862]),\n",
       " DenseVector([0.869, -1.0656, -0.2286, -2.0124]),\n",
       " DenseVector([0.869, -1.0656, -0.0692, 1.4177]),\n",
       " DenseVector([0.869, 0.9337, -0.2286, -2.0124]),\n",
       " DenseVector([-1.145, 0.9337, 1.4983, 0.1704]),\n",
       " DenseVector([0.869, -1.0656, 0.3028, 0.7941]),\n",
       " DenseVector([-1.145, 0.9337, 0.3293, -0.6611]),\n",
       " DenseVector([0.869, -1.0656, 0.1699, 0.7941]),\n",
       " DenseVector([0.869, -1.0656, -0.2286, -2.0124]),\n",
       " DenseVector([0.869, -1.0656, 1.0201, 1.002]),\n",
       " DenseVector([-1.145, 0.9337, 1.4983, 0.7941]),\n",
       " DenseVector([0.869, -1.0656, 0.4356, -0.2453]),\n",
       " DenseVector([0.869, -1.0656, -0.8397, -1.9084]),\n",
       " DenseVector([-1.145, 0.9337, 1.4983, 0.1704]),\n",
       " DenseVector([0.869, -1.0656, 1.5515, -0.0375]),\n",
       " DenseVector([0.869, -1.0656, 1.4983, 0.7941]),\n",
       " DenseVector([0.869, 0.9337, 0.1699, 0.7941]),\n",
       " DenseVector([0.869, 0.9337, 1.5515, -0.0375]),\n",
       " DenseVector([0.869, -1.0656, 1.4983, 0.3783]),\n",
       " DenseVector([-1.145, 0.9337, 2.5611, 0.1704]),\n",
       " DenseVector([-1.145, -1.0656, 0.4622, -1.8045]),\n",
       " DenseVector([0.869, -1.0656, 0.4622, -1.8045]),\n",
       " DenseVector([0.869, -1.0656, 0.8076, 0.7941]),\n",
       " DenseVector([-1.145, 0.9337, 1.0467, 0.7941]),\n",
       " DenseVector([0.869, -1.0656, 0.0637, -0.6611]),\n",
       " DenseVector([0.869, -1.0656, 0.2762, 0.5862]),\n",
       " DenseVector([0.869, -1.0656, 0.967, 0.7941]),\n",
       " DenseVector([0.869, -1.0656, 0.4622, -1.8045]),\n",
       " DenseVector([0.869, -1.0656, 0.5153, -1.5966]),\n",
       " DenseVector([-1.145, 0.9337, 0.5153, -1.5966]),\n",
       " DenseVector([0.869, 0.9337, 0.5153, -1.5966]),\n",
       " DenseVector([0.869, -1.0656, 2.0828, 0.5862]),\n",
       " DenseVector([0.869, -1.0656, 0.5153, -1.5966]),\n",
       " DenseVector([0.869, -1.0656, 1.9234, -0.7651]),\n",
       " DenseVector([-1.145, 0.9337, 2.747, 1.6256]),\n",
       " DenseVector([-1.145, 0.9337, 2.747, 1.6256]),\n",
       " DenseVector([0.869, -1.0656, 1.3655, -0.7651]),\n",
       " DenseVector([-1.145, 0.9337, 1.3655, -0.7651]),\n",
       " DenseVector([0.869, -1.0656, 1.9234, -0.7651]),\n",
       " DenseVector([-1.145, -1.0656, 4.2083, -0.2453]),\n",
       " DenseVector([0.869, -1.0656, 2.0828, 0.5862]),\n",
       " DenseVector([-1.145, 0.9337, 2.747, 1.6256]),\n",
       " DenseVector([0.869, -1.0656, 2.136, -1.2848]),\n",
       " DenseVector([-1.145, -1.0656, 2.0828, 0.5862]),\n",
       " DenseVector([-1.145, 0.9337, 2.136, -1.2848])]"
      ]
     },
     "execution_count": 12,
     "metadata": {},
     "output_type": "execute_result"
    }
   ],
   "source": [
    "carrosRDD4 = carrosDF.rdd.map(centerAndScale)\n",
    "carrosRDD4.collect()"
   ]
  },
  {
   "cell_type": "code",
   "execution_count": 13,
   "id": "4f3544df",
   "metadata": {
    "ExecuteTime": {
     "end_time": "2022-06-01T20:20:01.098996Z",
     "start_time": "2022-06-01T20:19:52.334943Z"
    }
   },
   "outputs": [
    {
     "name": "stdout",
     "output_type": "stream",
     "text": [
      "+--------------------+\n",
      "|            features|\n",
      "+--------------------+\n",
      "|[-1.1449709581789...|\n",
      "|[-1.1449709581789...|\n",
      "|[-1.1449709581789...|\n",
      "|[-1.1449709581789...|\n",
      "|[-1.1449709581789...|\n",
      "|[-1.1449709581789...|\n",
      "|[-1.1449709581789...|\n",
      "|[-1.1449709581789...|\n",
      "|[-1.1449709581789...|\n",
      "|[-1.1449709581789...|\n",
      "+--------------------+\n",
      "only showing top 10 rows\n",
      "\n"
     ]
    }
   ],
   "source": [
    "# Criando um Dataframe\n",
    "carrosRDD5 = carrosRDD4.map( lambda f:Row(features = f))\n",
    "carrosDF = spSession.createDataFrame(carrosRDD5)\n",
    "carrosDF.select(\"features\").show(10)"
   ]
  },
  {
   "cell_type": "code",
   "execution_count": 14,
   "id": "67510ccb",
   "metadata": {
    "ExecuteTime": {
     "end_time": "2022-06-01T20:20:26.406485Z",
     "start_time": "2022-06-01T20:20:01.102988Z"
    }
   },
   "outputs": [],
   "source": [
    "# Criando o modelo\n",
    "kmeans = KMeans(k = 3, seed = 1)\n",
    "modelo = kmeans.fit(carrosDF)"
   ]
  },
  {
   "cell_type": "code",
   "execution_count": 15,
   "id": "d9621c33",
   "metadata": {
    "ExecuteTime": {
     "end_time": "2022-06-01T20:20:33.448342Z",
     "start_time": "2022-06-01T20:20:26.412488Z"
    }
   },
   "outputs": [
    {
     "name": "stdout",
     "output_type": "stream",
     "text": [
      "+--------------------+----------+\n",
      "|            features|prediction|\n",
      "+--------------------+----------+\n",
      "|[-1.1449709581789...|         0|\n",
      "|[-1.1449709581789...|         0|\n",
      "|[-1.1449709581789...|         0|\n",
      "|[-1.1449709581789...|         0|\n",
      "|[-1.1449709581789...|         0|\n",
      "|[-1.1449709581789...|         0|\n",
      "|[-1.1449709581789...|         0|\n",
      "|[-1.1449709581789...|         0|\n",
      "|[-1.1449709581789...|         0|\n",
      "|[-1.1449709581789...|         0|\n",
      "|[-1.1449709581789...|         0|\n",
      "|[0.86895117361793...|         0|\n",
      "|[0.86895117361793...|         0|\n",
      "|[-1.1449709581789...|         0|\n",
      "|[-1.1449709581789...|         0|\n",
      "|[-1.1449709581789...|         0|\n",
      "|[-1.1449709581789...|         0|\n",
      "|[0.86895117361793...|         0|\n",
      "|[-1.1449709581789...|         0|\n",
      "|[0.86895117361793...|         1|\n",
      "+--------------------+----------+\n",
      "only showing top 20 rows\n",
      "\n"
     ]
    }
   ],
   "source": [
    "# Previsões\n",
    "previsoes = modelo.transform(carrosDF)\n",
    "previsoes.show()"
   ]
  },
  {
   "cell_type": "code",
   "execution_count": 16,
   "id": "e901e080",
   "metadata": {
    "ExecuteTime": {
     "end_time": "2022-06-01T20:20:33.463815Z",
     "start_time": "2022-06-01T20:20:33.451845Z"
    }
   },
   "outputs": [],
   "source": [
    "def unstripData(instr) :\n",
    "    return (instr[\"prediction\"], instr[\"features\"][0], instr[\"features\"][1], instr[\"features\"][2], instr[\"features\"][3])"
   ]
  },
  {
   "cell_type": "code",
   "execution_count": 17,
   "id": "634fde82",
   "metadata": {
    "ExecuteTime": {
     "end_time": "2022-06-01T20:20:44.675620Z",
     "start_time": "2022-06-01T20:20:33.466805Z"
    }
   },
   "outputs": [],
   "source": [
    "carrosRDD6 = previsoes.rdd.map(unstripData)\n",
    "predList = carrosRDD6.collect()\n",
    "predPd = pd.DataFrame(predList)"
   ]
  },
  {
   "cell_type": "code",
   "execution_count": 18,
   "id": "239bee6c",
   "metadata": {
    "ExecuteTime": {
     "end_time": "2022-06-01T20:20:46.283462Z",
     "start_time": "2022-06-01T20:20:44.679610Z"
    }
   },
   "outputs": [
    {
     "data": {
      "text/plain": [
       "<matplotlib.collections.PathCollection at 0x18410c55100>"
      ]
     },
     "execution_count": 18,
     "metadata": {},
     "output_type": "execute_result"
    },
    {
     "data": {
      "image/png": "[encoded data removed]",
      "text/plain": [
       "<Figure size 432x288 with 1 Axes>"
      ]
     },
     "metadata": {
      "needs_background": "light"
     },
     "output_type": "display_data"
    }
   ],
   "source": [
    "# Gráfico com o resultados dos clusters criados\n",
    "plt.cla()\n",
    "plt.scatter(predPd[3], predPd[4], c = predPd[0])"
   ]
  }
 ],
 "metadata": {
  "kernelspec": {
   "display_name": "Python 3 (ipykernel)",
   "language": "python",
   "name": "python3"
  },
  "language_info": {
   "codemirror_mode": {
    "name": "ipython",
    "version": 3
   },
   "file_extension": ".py",
   "mimetype": "text/x-python",
   "name": "python",
   "nbconvert_exporter": "python",
   "pygments_lexer": "ipython3",
   "version": "3.9.7"
  }
 },
 "nbformat": 4,
 "nbformat_minor": 5
}
