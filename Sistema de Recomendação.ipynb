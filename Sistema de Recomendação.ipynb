{
 "cells": [
  {
   "cell_type": "markdown",
   "id": "bc675a72",
   "metadata": {},
   "source": [
    "# Sistema de Recomendação - SparkMLLib"
   ]
  },
  {
   "cell_type": "code",
   "execution_count": 1,
   "id": "3ee58896",
   "metadata": {
    "ExecuteTime": {
     "end_time": "2022-06-01T20:38:45.400623Z",
     "start_time": "2022-06-01T20:38:45.066518Z"
    }
   },
   "outputs": [],
   "source": [
    "# Imports\n",
    "from pyspark.ml.recommendation import ALS"
   ]
  },
  {
   "cell_type": "code",
   "execution_count": 2,
   "id": "ae93fc89",
   "metadata": {
    "ExecuteTime": {
     "end_time": "2022-06-01T20:38:45.415584Z",
     "start_time": "2022-06-01T20:38:45.404613Z"
    }
   },
   "outputs": [],
   "source": [
    "# Spark Session - usada quando se trabalha com Dataframes no Spark\n",
    "spSession = SparkSession.builder.master(\"local\").appName(\"DSA-SparkMLLib\").getOrCreate()"
   ]
  },
  {
   "cell_type": "code",
   "execution_count": 3,
   "id": "fb32425d",
   "metadata": {
    "ExecuteTime": {
     "end_time": "2022-06-01T20:38:49.276258Z",
     "start_time": "2022-06-01T20:38:45.418577Z"
    }
   },
   "outputs": [
    {
     "data": {
      "text/plain": [
       "['1001,9001,10',\n",
       " '1001,9002,1',\n",
       " '1001,9003,9',\n",
       " '1002,9001,3',\n",
       " '1002,9002,5',\n",
       " '1002,9003,1',\n",
       " '1002,9004,10',\n",
       " '1003,9001,2',\n",
       " '1003,9002,6',\n",
       " '1003,9003,2',\n",
       " '1003,9004,9',\n",
       " '1003,9005,10',\n",
       " '1003,9006,8',\n",
       " '1003,9007,9',\n",
       " '1004,9001,9',\n",
       " '1004,9002,2',\n",
       " '1004,9003,8',\n",
       " '1004,9004,3',\n",
       " '1004,9010,10',\n",
       " '1004,9011,9',\n",
       " '1004,9012,8',\n",
       " '1005,9001,8',\n",
       " '1005,9002,3',\n",
       " '1005,9003,7',\n",
       " '1005,9004,1',\n",
       " '1005,9010,9',\n",
       " '1005,9011,10',\n",
       " '1005,9012,9',\n",
       " '1005,9013,8',\n",
       " '1005,9014,1',\n",
       " '1005,9015,1',\n",
       " '1006,9001,7',\n",
       " '1006,9002,4',\n",
       " '1006,9003,8',\n",
       " '1006,9004,1',\n",
       " '1006,9010,7',\n",
       " '1006,9011,6',\n",
       " '1006,9012,9']"
      ]
     },
     "execution_count": 3,
     "metadata": {},
     "output_type": "execute_result"
    }
   ],
   "source": [
    "# Carrega os dados no formato ALS (user, item, rating)\n",
    "ratingsRDD = sc.textFile(\"data/user-item.txt\")\n",
    "ratingsRDD.collect()"
   ]
  },
  {
   "cell_type": "code",
   "execution_count": 4,
   "id": "25d01de9",
   "metadata": {
    "ExecuteTime": {
     "end_time": "2022-06-01T20:38:49.308172Z",
     "start_time": "2022-06-01T20:38:49.282241Z"
    }
   },
   "outputs": [],
   "source": [
    "# Convertendo as strings\n",
    "ratingsRDD2 = ratingsRDD.map(lambda l: l.split(',')).map(lambda l:(int(l[0]), int(l[1]), float(l[2])))"
   ]
  },
  {
   "cell_type": "code",
   "execution_count": 5,
   "id": "879c05b3",
   "metadata": {
    "ExecuteTime": {
     "end_time": "2022-06-01T20:39:00.119252Z",
     "start_time": "2022-06-01T20:38:49.313164Z"
    }
   },
   "outputs": [],
   "source": [
    "# Criando um Dataframe\n",
    "ratingsDF = spSession.createDataFrame(ratingsRDD2, [\"user\", \"item\", \"rating\"])"
   ]
  },
  {
   "cell_type": "code",
   "execution_count": 6,
   "id": "d6c7375f",
   "metadata": {
    "ExecuteTime": {
     "end_time": "2022-06-01T20:39:09.052358Z",
     "start_time": "2022-06-01T20:39:00.123241Z"
    }
   },
   "outputs": [
    {
     "name": "stdout",
     "output_type": "stream",
     "text": [
      "+----+----+------+\n",
      "|user|item|rating|\n",
      "+----+----+------+\n",
      "|1001|9001|  10.0|\n",
      "|1001|9002|   1.0|\n",
      "|1001|9003|   9.0|\n",
      "|1002|9001|   3.0|\n",
      "|1002|9002|   5.0|\n",
      "|1002|9003|   1.0|\n",
      "|1002|9004|  10.0|\n",
      "|1003|9001|   2.0|\n",
      "|1003|9002|   6.0|\n",
      "|1003|9003|   2.0|\n",
      "|1003|9004|   9.0|\n",
      "|1003|9005|  10.0|\n",
      "|1003|9006|   8.0|\n",
      "|1003|9007|   9.0|\n",
      "|1004|9001|   9.0|\n",
      "|1004|9002|   2.0|\n",
      "|1004|9003|   8.0|\n",
      "|1004|9004|   3.0|\n",
      "|1004|9010|  10.0|\n",
      "|1004|9011|   9.0|\n",
      "+----+----+------+\n",
      "only showing top 20 rows\n",
      "\n"
     ]
    }
   ],
   "source": [
    "ratingsDF.show()"
   ]
  },
  {
   "cell_type": "code",
   "execution_count": 7,
   "id": "bc8b3c15",
   "metadata": {
    "ExecuteTime": {
     "end_time": "2022-06-01T20:39:22.173258Z",
     "start_time": "2022-06-01T20:39:09.059337Z"
    }
   },
   "outputs": [],
   "source": [
    "# Construindo o modelo\n",
    "# ALS = Alternating Least Squares --> Algoritmo para sistema de recomendação, que otimiza a loss function \n",
    "# e funciona muito bem em ambientes paralelizados\n",
    "als = ALS(rank = 10, maxIter = 5)\n",
    "modelo = als.fit(ratingsDF)"
   ]
  },
  {
   "cell_type": "code",
   "execution_count": 8,
   "id": "578fccff",
   "metadata": {
    "ExecuteTime": {
     "end_time": "2022-06-01T20:39:23.900636Z",
     "start_time": "2022-06-01T20:39:22.176249Z"
    }
   },
   "outputs": [
    {
     "name": "stderr",
     "output_type": "stream",
     "text": [
      "C:\\spark\\python\\pyspark\\sql\\context.py:125: FutureWarning: Deprecated in 3.0.0. Use SparkSession.builder.getOrCreate() instead.\n",
      "  warnings.warn(\n"
     ]
    },
    {
     "data": {
      "text/plain": [
       "[Row(id=1001, features=[-1.0203386545181274, 0.158844456076622, 0.4343518018722534, 0.4210808277130127, -0.08316308259963989, -0.22315622866153717, 0.43449491262435913, -0.016361340880393982, -0.09652023762464523, 1.2523633241653442]),\n",
       " Row(id=1002, features=[-0.7278648018836975, -0.3039030432701111, -1.4372806549072266, 0.41016703844070435, -0.20219342410564423, 0.3068915903568268, 0.23943811655044556, -0.3149692118167877, -0.4226529002189636, -0.5618031024932861]),\n",
       " Row(id=1003, features=[-0.27540671825408936, -0.020169362425804138, -1.2622171640396118, 0.6222057342529297, -0.33872950077056885, 0.6792863607406616, -0.05991802737116814, 0.23600471019744873, -0.2451867312192917, -0.479026198387146]),\n",
       " Row(id=1004, features=[-1.180858850479126, -0.19838424026966095, 0.10948377102613449, 0.7140416502952576, -0.034305863082408905, -0.058910198509693146, 0.4041875898838043, -0.052296675741672516, -0.1987917274236679, 0.6823390126228333]),\n",
       " Row(id=1005, features=[-0.520517110824585, 0.5383254289627075, -0.40685197710990906, 0.039081037044525146, -0.3472077548503876, -0.015325052663683891, 0.27017906308174133, 0.02525264583528042, -0.21602670848369598, 1.1690857410430908]),\n",
       " Row(id=1006, features=[-0.14960327744483948, 0.546083390712738, 0.15998080372810364, 0.9113135933876038, -0.3812845051288605, 0.7204729318618774, -0.14817684888839722, 0.923270046710968, 0.2015027403831482, 0.7099640369415283])]"
      ]
     },
     "execution_count": 8,
     "metadata": {},
     "output_type": "execute_result"
    }
   ],
   "source": [
    "# Visualizando o Affinity Score\n",
    "modelo.userFactors.orderBy(\"id\").collect()"
   ]
  },
  {
   "cell_type": "code",
   "execution_count": 9,
   "id": "6fd97e0e",
   "metadata": {
    "ExecuteTime": {
     "end_time": "2022-06-01T20:39:23.979426Z",
     "start_time": "2022-06-01T20:39:23.904625Z"
    }
   },
   "outputs": [],
   "source": [
    "# Criando um dataset de teste com usuários e items para rating\n",
    "testeDF = spSession.createDataFrame([(1001, 9003),(1001,9004),(1001,9005)], [\"user\", \"item\"])"
   ]
  },
  {
   "cell_type": "code",
   "execution_count": 10,
   "id": "67627960",
   "metadata": {
    "ExecuteTime": {
     "end_time": "2022-06-01T20:39:38.115610Z",
     "start_time": "2022-06-01T20:39:23.985410Z"
    }
   },
   "outputs": [
    {
     "data": {
      "text/plain": [
       "[Row(user=1001, item=9003, prediction=9.008316993713379),\n",
       " Row(user=1001, item=9004, prediction=-0.6660882234573364),\n",
       " Row(user=1001, item=9005, prediction=-2.7070765495300293)]"
      ]
     },
     "execution_count": 10,
     "metadata": {},
     "output_type": "execute_result"
    }
   ],
   "source": [
    "# Previsões  \n",
    "# Quanto maior o Affinity Score, maior a probabilidade do usuário aceitar uma recomendação\n",
    "previsoes = (modelo.transform(testeDF).collect())\n",
    "previsoes"
   ]
  }
 ],
 "metadata": {
  "kernelspec": {
   "display_name": "Python 3 (ipykernel)",
   "language": "python",
   "name": "python3"
  },
  "language_info": {
   "codemirror_mode": {
    "name": "ipython",
    "version": 3
   },
   "file_extension": ".py",
   "mimetype": "text/x-python",
   "name": "python",
   "nbconvert_exporter": "python",
   "pygments_lexer": "ipython3",
   "version": "3.9.7"
  }
 },
 "nbformat": 4,
 "nbformat_minor": 5
}
